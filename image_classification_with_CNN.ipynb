{
  "nbformat": 4,
  "nbformat_minor": 0,
  "metadata": {
    "colab": {
      "provenance": [],
      "authorship_tag": "ABX9TyOFoa/4e5Rags5fHo6lHZet",
      "include_colab_link": true
    },
    "kernelspec": {
      "name": "python3",
      "display_name": "Python 3"
    },
    "language_info": {
      "name": "python"
    }
  },
  "cells": [
    {
      "cell_type": "markdown",
      "metadata": {
        "id": "view-in-github",
        "colab_type": "text"
      },
      "source": [
        "<a href=\"https://colab.research.google.com/github/habib-wahid/ML-Assignment/blob/main/image_classification_with_CNN.ipynb\" target=\"_parent\"><img src=\"https://colab.research.google.com/assets/colab-badge.svg\" alt=\"Open In Colab\"/></a>"
      ]
    },
    {
      "cell_type": "code",
      "execution_count": 1,
      "metadata": {
        "colab": {
          "base_uri": "https://localhost:8080/"
        },
        "id": "7HptmFmp51_g",
        "outputId": "528d76fa-4b78-4efd-fe32-ba977b57a365"
      },
      "outputs": [
        {
          "output_type": "stream",
          "name": "stdout",
          "text": [
            "Mounted at /content/drive\n"
          ]
        }
      ],
      "source": [
        "\n",
        "from google.colab import drive\n",
        "drive.mount('/content/drive')"
      ]
    },
    {
      "cell_type": "code",
      "source": [
        "import tensorflow as tf\n",
        "from tensorflow.keras import datasets, layers, models\n",
        "import matplotlib.pyplot as plt\n",
        "import numpy"
      ],
      "metadata": {
        "id": "sabPCd_PJpwp"
      },
      "execution_count": 2,
      "outputs": []
    },
    {
      "cell_type": "code",
      "source": [
        "import zipfile\n",
        "import os\n",
        "\n",
        "zip_ref = zipfile.ZipFile('/content/drive/MyDrive/Data/CNN_dataset.zip', 'r') #Opens the zip file in read mode\n",
        "zip_ref.extractall() #Extracts the files into the /tmp folder\n",
        "zip_ref.close()"
      ],
      "metadata": {
        "id": "q0RHPmBK7qw6"
      },
      "execution_count": 3,
      "outputs": []
    },
    {
      "cell_type": "code",
      "source": [
        "import numpy as np\n",
        "import pandas as pd\n",
        "import os\n",
        "import cv2\n",
        "import matplotlib.pyplot as plt\n",
        "\n",
        "train_path=\"CNN_dataset\"\n",
        "x_train=[]\n",
        "y_train= []\n",
        "\n",
        "for folder in os.listdir(train_path):\n",
        "\n",
        "    sub_path=train_path+\"/\"+folder\n",
        "    print(sub_path)\n",
        "\n",
        "    if os.path.isdir(sub_path):\n",
        "      for img in os.listdir(sub_path):\n",
        "          image_path=sub_path+\"/\"+img\n",
        "          img_arr=cv2.imread(image_path)\n",
        "          img_arr=cv2.resize(img_arr,(32,32))\n",
        "          x_train.append(img_arr)\n",
        "          if folder == \"HeadCT\":\n",
        "            y_train.append(1)\n",
        "          if folder == \"CXR\":\n",
        "            y_train.append(2)\n",
        "          if folder == \"Hand\":\n",
        "            y_train.append(3)\n",
        "          if folder == \"AbdomenCT\":\n",
        "            y_train.append(4)\n",
        "          if folder == \"ChestCT\":\n",
        "            y_train.append(5)\n",
        "\n",
        "print(len(x_train))\n",
        "print(len(y_train))"
      ],
      "metadata": {
        "colab": {
          "base_uri": "https://localhost:8080/"
        },
        "id": "cT2SW2XP80he",
        "outputId": "fb471f06-f5cb-47c7-b232-7b81fee1320a"
      },
      "execution_count": 4,
      "outputs": [
        {
          "output_type": "stream",
          "name": "stdout",
          "text": [
            "CNN_dataset/HeadCT\n",
            "CNN_dataset/ChestCT\n",
            "CNN_dataset/Hand\n",
            "CNN_dataset/.DS_Store\n",
            "CNN_dataset/AbdomenCT\n",
            "CNN_dataset/CXR\n",
            "CNN_dataset/README.md\n",
            "50000\n",
            "50000\n"
          ]
        }
      ]
    },
    {
      "cell_type": "code",
      "source": [
        "print(x_train[0].shape)"
      ],
      "metadata": {
        "colab": {
          "base_uri": "https://localhost:8080/"
        },
        "id": "By1Fizsv0Ti-",
        "outputId": "de05c568-ba48-4701-a958-a06f393f68d4"
      },
      "execution_count": 20,
      "outputs": [
        {
          "output_type": "stream",
          "name": "stdout",
          "text": [
            "(32, 32, 3)\n"
          ]
        }
      ]
    },
    {
      "cell_type": "code",
      "source": [
        "import numpy"
      ],
      "metadata": {
        "id": "eup9GD9V1Z9o"
      },
      "execution_count": 6,
      "outputs": []
    },
    {
      "cell_type": "code",
      "source": [
        "x_train = numpy.array(x_train)\n",
        "y_train = numpy.array(y_train)"
      ],
      "metadata": {
        "id": "Mt8l3YHX1cCB"
      },
      "execution_count": 21,
      "outputs": []
    },
    {
      "cell_type": "code",
      "source": [
        "print(x_train.shape)\n",
        "print(y_train.shape)"
      ],
      "metadata": {
        "colab": {
          "base_uri": "https://localhost:8080/"
        },
        "id": "4c8kGBmj3JF4",
        "outputId": "76c7a83f-4bd1-45bd-f5b6-02d6052a02cf"
      },
      "execution_count": 9,
      "outputs": [
        {
          "output_type": "stream",
          "name": "stdout",
          "text": [
            "(50000, 32, 32, 3)\n",
            "(50000,)\n"
          ]
        }
      ]
    },
    {
      "cell_type": "code",
      "source": [
        "y_train[10000:10005]"
      ],
      "metadata": {
        "colab": {
          "base_uri": "https://localhost:8080/"
        },
        "id": "uoVyj52w6q15",
        "outputId": "2ab35695-19c0-4f8b-aae3-0d1f9ff168b3"
      },
      "execution_count": 8,
      "outputs": [
        {
          "output_type": "execute_result",
          "data": {
            "text/plain": [
              "array([5, 5, 5, 5, 5])"
            ]
          },
          "metadata": {},
          "execution_count": 8
        }
      ]
    },
    {
      "cell_type": "code",
      "source": [
        "import matplotlib.pyplot as plt\n",
        "plt.imshow(x_train[10000])"
      ],
      "metadata": {
        "colab": {
          "base_uri": "https://localhost:8080/",
          "height": 284
        },
        "id": "YRHrUFHM4hGR",
        "outputId": "b946464c-39bd-4a8d-a89d-d47ed31ca2db"
      },
      "execution_count": 22,
      "outputs": [
        {
          "output_type": "execute_result",
          "data": {
            "text/plain": [
              "<matplotlib.image.AxesImage at 0x7ff249c5e640>"
            ]
          },
          "metadata": {},
          "execution_count": 22
        },
        {
          "output_type": "display_data",
          "data": {
            "text/plain": [
              "<Figure size 432x288 with 1 Axes>"
            ],
            "image/png": "[encoded data removed]"
          },
          "metadata": {
            "needs_background": "light"
          }
        }
      ]
    },
    {
      "cell_type": "code",
      "source": [
        "from sklearn.model_selection import train_test_split"
      ],
      "metadata": {
        "id": "oci98Kk2DOLQ"
      },
      "execution_count": 11,
      "outputs": []
    },
    {
      "cell_type": "code",
      "source": [
        "X_train, X_test, y_train, y_test = train_test_split(x_train, y_train, random_state=0, train_size = .75)"
      ],
      "metadata": {
        "id": "CEr3GWaSDhAg"
      },
      "execution_count": 12,
      "outputs": []
    },
    {
      "cell_type": "code",
      "source": [
        "plt.imshow(X_train[10000])"
      ],
      "metadata": {
        "colab": {
          "base_uri": "https://localhost:8080/",
          "height": 284
        },
        "id": "f5NMH1qzGuYh",
        "outputId": "89a336cb-15ad-4436-f3f1-5e7e760ed43a"
      },
      "execution_count": 13,
      "outputs": [
        {
          "output_type": "execute_result",
          "data": {
            "text/plain": [
              "<matplotlib.image.AxesImage at 0x7ff23c41d610>"
            ]
          },
          "metadata": {},
          "execution_count": 13
        },
        {
          "output_type": "display_data",
          "data": {
            "text/plain": [
              "<Figure size 432x288 with 1 Axes>"
            ],
            "image/png": "[encoded data removed]"
          },
          "metadata": {
            "needs_background": "light"
          }
        }
      ]
    },
    {
      "cell_type": "code",
      "source": [
        "X_train = X_train/255"
      ],
      "metadata": {
        "id": "7Sh8Xp7WDjf8"
      },
      "execution_count": 14,
      "outputs": []
    },
    {
      "cell_type": "code",
      "source": [
        "X_test = X_test/255"
      ],
      "metadata": {
        "id": "9HPEjaINEfTe"
      },
      "execution_count": 15,
      "outputs": []
    },
    {
      "cell_type": "code",
      "source": [
        "ann = models.Sequential([\n",
        "        layers.Flatten(input_shape=(32,32,3)),\n",
        "        layers.Dense(3000, activation='relu'),\n",
        "        layers.Dense(1000, activation='relu'),\n",
        "        layers.Dense(10, activation='softmax')    \n",
        "    ])\n",
        "\n",
        "ann.compile(optimizer='SGD',\n",
        "              loss='sparse_categorical_crossentropy',\n",
        "              metrics=['accuracy'])\n",
        "\n",
        "ann.fit(X_train, y_train, epochs=5)"
      ],
      "metadata": {
        "colab": {
          "base_uri": "https://localhost:8080/"
        },
        "id": "7ZrvOJxUFDlU",
        "outputId": "f3e3c3dd-9806-41a6-9c1c-1a0c5f316b01"
      },
      "execution_count": 16,
      "outputs": [
        {
          "output_type": "stream",
          "name": "stdout",
          "text": [
            "Epoch 1/5\n",
            "1172/1172 [==============================] - 103s 87ms/step - loss: 0.2017 - accuracy: 0.9396\n",
            "Epoch 2/5\n",
            "1172/1172 [==============================] - 98s 84ms/step - loss: 0.0714 - accuracy: 0.9829\n",
            "Epoch 3/5\n",
            "1172/1172 [==============================] - 102s 87ms/step - loss: 0.0448 - accuracy: 0.9888\n",
            "Epoch 4/5\n",
            "1172/1172 [==============================] - 100s 85ms/step - loss: 0.0323 - accuracy: 0.9933\n",
            "Epoch 5/5\n",
            "1172/1172 [==============================] - 101s 86ms/step - loss: 0.0247 - accuracy: 0.9953\n"
          ]
        },
        {
          "output_type": "execute_result",
          "data": {
            "text/plain": [
              "<keras.callbacks.History at 0x7ff23758d400>"
            ]
          },
          "metadata": {},
          "execution_count": 16
        }
      ]
    },
    {
      "cell_type": "code",
      "source": [
        "# Define the architecture\n",
        "model = tf.keras.Sequential([\n",
        "    tf.keras.layers.Conv2D(32, (3, 3), activation='relu', input_shape=(32, 32, 3)),\n",
        "    tf.keras.layers.MaxPooling2D((2, 2)),\n",
        "    tf.keras.layers.Conv2D(64, (3, 3), activation='relu'),\n",
        "    tf.keras.layers.MaxPooling2D((2, 2)),\n",
        "    tf.keras.layers.Conv2D(64, (3, 3), activation='relu'),\n",
        "    tf.keras.layers.Flatten(),\n",
        "    tf.keras.layers.Dense(64, activation='relu'),\n",
        "    tf.keras.layers.Dense(10)\n",
        "])\n"
      ],
      "metadata": {
        "id": "Lyuyzcl7FEpW"
      },
      "execution_count": 17,
      "outputs": []
    },
    {
      "cell_type": "code",
      "source": [
        "# Compile the model\n",
        "model.compile(optimizer='adam',\n",
        "              loss=tf.keras.losses.SparseCategoricalCrossentropy(from_logits=True),\n",
        "              metrics=['accuracy'])"
      ],
      "metadata": {
        "id": "jxeKK4diFKPI"
      },
      "execution_count": 18,
      "outputs": []
    },
    {
      "cell_type": "code",
      "source": [
        "# Train the model\n",
        "history = model.fit(X_train, y_train, epochs=10,\n",
        "                    validation_data=(X_test, y_test))"
      ],
      "metadata": {
        "colab": {
          "base_uri": "https://localhost:8080/"
        },
        "id": "KFpGHJgLFQER",
        "outputId": "28e97125-f46f-45e2-9023-d62f5927d073"
      },
      "execution_count": 19,
      "outputs": [
        {
          "output_type": "stream",
          "name": "stdout",
          "text": [
            "Epoch 1/10\n",
            "1172/1172 [==============================] - 57s 48ms/step - loss: 0.1066 - accuracy: 0.9662 - val_loss: 0.0117 - val_accuracy: 0.9975\n",
            "Epoch 2/10\n",
            "1172/1172 [==============================] - 52s 45ms/step - loss: 0.0156 - accuracy: 0.9958 - val_loss: 0.0102 - val_accuracy: 0.9973\n",
            "Epoch 3/10\n",
            "1172/1172 [==============================] - 53s 45ms/step - loss: 0.0125 - accuracy: 0.9963 - val_loss: 0.0114 - val_accuracy: 0.9967\n",
            "Epoch 4/10\n",
            "1172/1172 [==============================] - 55s 47ms/step - loss: 0.0101 - accuracy: 0.9971 - val_loss: 0.0132 - val_accuracy: 0.9962\n",
            "Epoch 5/10\n",
            "1172/1172 [==============================] - 51s 44ms/step - loss: 0.0058 - accuracy: 0.9985 - val_loss: 0.0071 - val_accuracy: 0.9985\n",
            "Epoch 6/10\n",
            "1172/1172 [==============================] - 52s 45ms/step - loss: 0.0070 - accuracy: 0.9979 - val_loss: 0.0031 - val_accuracy: 0.9988\n",
            "Epoch 7/10\n",
            "1172/1172 [==============================] - 53s 45ms/step - loss: 0.0070 - accuracy: 0.9980 - val_loss: 0.0057 - val_accuracy: 0.9983\n",
            "Epoch 8/10\n",
            "1172/1172 [==============================] - 50s 43ms/step - loss: 0.0033 - accuracy: 0.9990 - val_loss: 0.0041 - val_accuracy: 0.9988\n",
            "Epoch 9/10\n",
            "1172/1172 [==============================] - 53s 45ms/step - loss: 0.0028 - accuracy: 0.9991 - val_loss: 0.0027 - val_accuracy: 0.9992\n",
            "Epoch 10/10\n",
            "1172/1172 [==============================] - 52s 44ms/step - loss: 0.0040 - accuracy: 0.9985 - val_loss: 0.0032 - val_accuracy: 0.9990\n"
          ]
        }
      ]
    }
  ]
}