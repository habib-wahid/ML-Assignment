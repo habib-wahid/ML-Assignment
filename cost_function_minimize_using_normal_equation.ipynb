{
  "nbformat": 4,
  "nbformat_minor": 0,
  "metadata": {
    "colab": {
      "provenance": [],
      "include_colab_link": true
    },
    "kernelspec": {
      "name": "python3",
      "display_name": "Python 3"
    },
    "language_info": {
      "name": "python"
    }
  },
  "cells": [
    {
      "cell_type": "markdown",
      "metadata": {
        "id": "view-in-github",
        "colab_type": "text"
      },
      "source": [
        "<a href=\"https://colab.research.google.com/github/habib-wahid/ML-Assignment/blob/main/cost_function_minimize_using_normal_equation.ipynb\" target=\"_parent\"><img src=\"https://colab.research.google.com/assets/colab-badge.svg\" alt=\"Open In Colab\"/></a>"
      ]
    },
    {
      "cell_type": "code",
      "execution_count": null,
      "metadata": {
        "colab": {
          "base_uri": "https://localhost:8080/"
        },
        "id": "89Oey5PBwK3Q",
        "outputId": "4b1eb5f1-ae55-4ee4-8e5c-1be1d1897da0"
      },
      "outputs": [
        {
          "output_type": "stream",
          "name": "stdout",
          "text": [
            "Mounted at /content/drive\n"
          ]
        }
      ],
      "source": [
        "import pandas as pd\n",
        "import matplotlib.pyplot as plt\n",
        "import numpy as np\n",
        "import seaborn as sns\n",
        "from google.colab import drive\n",
        "drive.mount('/content/drive')"
      ]
    },
    {
      "cell_type": "code",
      "source": [
        "data = pd.read_csv(\"/content/drive/MyDrive/Data/4K_House_Rent_Dataset.csv\")\n",
        "data.head()"
      ],
      "metadata": {
        "colab": {
          "base_uri": "https://localhost:8080/",
          "height": 206
        },
        "id": "cZCRaPalw-ch",
        "outputId": "0ef0aa74-aeee-46e0-a17e-6ba422c5a4f8"
      },
      "execution_count": null,
      "outputs": [
        {
          "output_type": "execute_result",
          "data": {
            "text/plain": [
              "    Posted On  BHK   Rent  Size            Floor    Area Type  \\\n",
              "0  2022-05-18    2  10000  1100  Ground out of 2   Super Area   \n",
              "1  2022-05-13    2  20000   800       1 out of 3   Super Area   \n",
              "2  2022-05-16    2  17000  1000       1 out of 3   Super Area   \n",
              "3  2022-07-04    2  10000   800       1 out of 2   Super Area   \n",
              "4  2022-05-09    2   7500   850       1 out of 2  Carpet Area   \n",
              "\n",
              "              Area Locality     City Furnishing Status  Tenant Preferred  \\\n",
              "0                    Bandel  Kolkata       Unfurnished  Bachelors/Family   \n",
              "1  Phool Bagan, Kankurgachi  Kolkata    Semi-Furnished  Bachelors/Family   \n",
              "2   Salt Lake City Sector 2  Kolkata    Semi-Furnished  Bachelors/Family   \n",
              "3               Dumdum Park  Kolkata       Unfurnished  Bachelors/Family   \n",
              "4             South Dum Dum  Kolkata       Unfurnished         Bachelors   \n",
              "\n",
              "   Bathroom Point of Contact  \n",
              "0         2    Contact Owner  \n",
              "1         1    Contact Owner  \n",
              "2         1    Contact Owner  \n",
              "3         1    Contact Owner  \n",
              "4         1    Contact Owner  "
            ],
            "text/html": [
              "\n",
              "  <div id=\"df-6b2cd569-37f2-45ba-9ca9-5f6dff12068e\">\n",
              "    <div class=\"colab-df-container\">\n",
              "      <div>\n",
              "<style scoped>\n",
              "    .dataframe tbody tr th:only-of-type {\n",
              "        vertical-align: middle;\n",
              "    }\n",
              "\n",
              "    .dataframe tbody tr th {\n",
              "        vertical-align: top;\n",
              "    }\n",
              "\n",
              "    .dataframe thead th {\n",
              "        text-align: right;\n",
              "    }\n",
              "</style>\n",
              "<table border=\"1\" class=\"dataframe\">\n",
              "  <thead>\n",
              "    <tr style=\"text-align: right;\">\n",
              "      <th></th>\n",
              "      <th>Posted On</th>\n",
              "      <th>BHK</th>\n",
              "      <th>Rent</th>\n",
              "      <th>Size</th>\n",
              "      <th>Floor</th>\n",
              "      <th>Area Type</th>\n",
              "      <th>Area Locality</th>\n",
              "      <th>City</th>\n",
              "      <th>Furnishing Status</th>\n",
              "      <th>Tenant Preferred</th>\n",
              "      <th>Bathroom</th>\n",
              "      <th>Point of Contact</th>\n",
              "    </tr>\n",
              "  </thead>\n",
              "  <tbody>\n",
              "    <tr>\n",
              "      <th>0</th>\n",
              "      <td>2022-05-18</td>\n",
              "      <td>2</td>\n",
              "      <td>10000</td>\n",
              "      <td>1100</td>\n",
              "      <td>Ground out of 2</td>\n",
              "      <td>Super Area</td>\n",
              "      <td>Bandel</td>\n",
              "      <td>Kolkata</td>\n",
              "      <td>Unfurnished</td>\n",
              "      <td>Bachelors/Family</td>\n",
              "      <td>2</td>\n",
              "      <td>Contact Owner</td>\n",
              "    </tr>\n",
              "    <tr>\n",
              "      <th>1</th>\n",
              "      <td>2022-05-13</td>\n",
              "      <td>2</td>\n",
              "      <td>20000</td>\n",
              "      <td>800</td>\n",
              "      <td>1 out of 3</td>\n",
              "      <td>Super Area</td>\n",
              "      <td>Phool Bagan, Kankurgachi</td>\n",
              "      <td>Kolkata</td>\n",
              "      <td>Semi-Furnished</td>\n",
              "      <td>Bachelors/Family</td>\n",
              "      <td>1</td>\n",
              "      <td>Contact Owner</td>\n",
              "    </tr>\n",
              "    <tr>\n",
              "      <th>2</th>\n",
              "      <td>2022-05-16</td>\n",
              "      <td>2</td>\n",
              "      <td>17000</td>\n",
              "      <td>1000</td>\n",
              "      <td>1 out of 3</td>\n",
              "      <td>Super Area</td>\n",
              "      <td>Salt Lake City Sector 2</td>\n",
              "      <td>Kolkata</td>\n",
              "      <td>Semi-Furnished</td>\n",
              "      <td>Bachelors/Family</td>\n",
              "      <td>1</td>\n",
              "      <td>Contact Owner</td>\n",
              "    </tr>\n",
              "    <tr>\n",
              "      <th>3</th>\n",
              "      <td>2022-07-04</td>\n",
              "      <td>2</td>\n",
              "      <td>10000</td>\n",
              "      <td>800</td>\n",
              "      <td>1 out of 2</td>\n",
              "      <td>Super Area</td>\n",
              "      <td>Dumdum Park</td>\n",
              "      <td>Kolkata</td>\n",
              "      <td>Unfurnished</td>\n",
              "      <td>Bachelors/Family</td>\n",
              "      <td>1</td>\n",
              "      <td>Contact Owner</td>\n",
              "    </tr>\n",
              "    <tr>\n",
              "      <th>4</th>\n",
              "      <td>2022-05-09</td>\n",
              "      <td>2</td>\n",
              "      <td>7500</td>\n",
              "      <td>850</td>\n",
              "      <td>1 out of 2</td>\n",
              "      <td>Carpet Area</td>\n",
              "      <td>South Dum Dum</td>\n",
              "      <td>Kolkata</td>\n",
              "      <td>Unfurnished</td>\n",
              "      <td>Bachelors</td>\n",
              "      <td>1</td>\n",
              "      <td>Contact Owner</td>\n",
              "    </tr>\n",
              "  </tbody>\n",
              "</table>\n",
              "</div>\n",
              "      <button class=\"colab-df-convert\" onclick=\"convertToInteractive('df-6b2cd569-37f2-45ba-9ca9-5f6dff12068e')\"\n",
              "              title=\"Convert this dataframe to an interactive table.\"\n",
              "              style=\"display:none;\">\n",
              "        \n",
              "  <svg xmlns=\"http://www.w3.org/2000/svg\" height=\"24px\"viewBox=\"0 0 24 24\"\n",
              "       width=\"24px\">\n",
              "    <path d=\"M0 0h24v24H0V0z\" fill=\"none\"/>\n",
              "    <path d=\"M18.56 5.44l.94 2.06.94-2.06 2.06-.94-2.06-.94-.94-2.06-.94 2.06-2.06.94zm-11 1L8.5 8.5l.94-2.06 2.06-.94-2.06-.94L8.5 2.5l-.94 2.06-2.06.94zm10 10l.94 2.06.94-2.06 2.06-.94-2.06-.94-.94-2.06-.94 2.06-2.06.94z\"/><path d=\"M17.41 7.96l-1.37-1.37c-.4-.4-.92-.59-1.43-.59-.52 0-1.04.2-1.43.59L10.3 9.45l-7.72 7.72c-.78.78-.78 2.05 0 2.83L4 21.41c.39.39.9.59 1.41.59.51 0 1.02-.2 1.41-.59l7.78-7.78 2.81-2.81c.8-.78.8-2.07 0-2.86zM5.41 20L4 18.59l7.72-7.72 1.47 1.35L5.41 20z\"/>\n",
              "  </svg>\n",
              "      </button>\n",
              "      \n",
              "  <style>\n",
              "    .colab-df-container {\n",
              "      display:flex;\n",
              "      flex-wrap:wrap;\n",
              "      gap: 12px;\n",
              "    }\n",
              "\n",
              "    .colab-df-convert {\n",
              "      background-color: #E8F0FE;\n",
              "      border: none;\n",
              "      border-radius: 50%;\n",
              "      cursor: pointer;\n",
              "      display: none;\n",
              "      fill: #1967D2;\n",
              "      height: 32px;\n",
              "      padding: 0 0 0 0;\n",
              "      width: 32px;\n",
              "    }\n",
              "\n",
              "    .colab-df-convert:hover {\n",
              "      background-color: #E2EBFA;\n",
              "      box-shadow: 0px 1px 2px rgba(60, 64, 67, 0.3), 0px 1px 3px 1px rgba(60, 64, 67, 0.15);\n",
              "      fill: #174EA6;\n",
              "    }\n",
              "\n",
              "    [theme=dark] .colab-df-convert {\n",
              "      background-color: #3B4455;\n",
              "      fill: #D2E3FC;\n",
              "    }\n",
              "\n",
              "    [theme=dark] .colab-df-convert:hover {\n",
              "      background-color: #434B5C;\n",
              "      box-shadow: 0px 1px 3px 1px rgba(0, 0, 0, 0.15);\n",
              "      filter: drop-shadow(0px 1px 2px rgba(0, 0, 0, 0.3));\n",
              "      fill: #FFFFFF;\n",
              "    }\n",
              "  </style>\n",
              "\n",
              "      <script>\n",
              "        const buttonEl =\n",
              "          document.querySelector('#df-6b2cd569-37f2-45ba-9ca9-5f6dff12068e button.colab-df-convert');\n",
              "        buttonEl.style.display =\n",
              "          google.colab.kernel.accessAllowed ? 'block' : 'none';\n",
              "\n",
              "        async function convertToInteractive(key) {\n",
              "          const element = document.querySelector('#df-6b2cd569-37f2-45ba-9ca9-5f6dff12068e');\n",
              "          const dataTable =\n",
              "            await google.colab.kernel.invokeFunction('convertToInteractive',\n",
              "                                                     [key], {});\n",
              "          if (!dataTable) return;\n",
              "\n",
              "          const docLinkHtml = 'Like what you see? Visit the ' +\n",
              "            '<a target=\"_blank\" href=https://colab.research.google.com/notebooks/data_table.ipynb>data table notebook</a>'\n",
              "            + ' to learn more about interactive tables.';\n",
              "          element.innerHTML = '';\n",
              "          dataTable['output_type'] = 'display_data';\n",
              "          await google.colab.output.renderOutput(dataTable, element);\n",
              "          const docLink = document.createElement('div');\n",
              "          docLink.innerHTML = docLinkHtml;\n",
              "          element.appendChild(docLink);\n",
              "        }\n",
              "      </script>\n",
              "    </div>\n",
              "  </div>\n",
              "  "
            ]
          },
          "metadata": {},
          "execution_count": 2
        }
      ]
    },
    {
      "cell_type": "code",
      "source": [
        "Y = data['Rent'].values\n",
        "print(Y)\n",
        "X1 = data['Size'].values\n",
        "X2 = data['BHK'].values\n",
        "X3 = data['City'].values\n",
        "X4 = data['Bathroom'].values\n",
        "X5 = data['Furnishing Status'].values"
      ],
      "metadata": {
        "colab": {
          "base_uri": "https://localhost:8080/"
        },
        "id": "JMdPjfEnxCXg",
        "outputId": "0bacf234-5e7d-4986-cd85-c77f4e67efd8"
      },
      "execution_count": null,
      "outputs": [
        {
          "output_type": "stream",
          "name": "stdout",
          "text": [
            "[10000 20000 17000 ... 35000 45000 15000]\n"
          ]
        }
      ]
    },
    {
      "cell_type": "code",
      "source": [
        "def replace_feature_by_value(input_list,replacing_item,replaced_value):\n",
        "  return [replaced_value if item == replacing_item else item for item in input_list]\n",
        "\n",
        "X3 = replace_feature_by_value(X3,'Bangalore',1)\n",
        "X3 = replace_feature_by_value(X3,'Chennai',2)\n",
        "X3 = replace_feature_by_value(X3,'Delhi',3)\n",
        "X3 = replace_feature_by_value(X3,'Hyderabad',4)\n",
        "X3 = replace_feature_by_value(X3,'Kolkata',5)\n",
        "X3 = replace_feature_by_value(X3,'Mumbai',6)\n",
        "\n",
        "X5 = replace_feature_by_value(X5,'Furnished',1)\n",
        "X5 = replace_feature_by_value(X5,'Semi-Furnished',2)\n",
        "X5 = replace_feature_by_value(X5,'Unfurnished',3)\n",
        "\n",
        "print(type(X1[0]),type(X2[0]),type(X3[0]),type(X4[0]),type(X5[0]))"
      ],
      "metadata": {
        "colab": {
          "base_uri": "https://localhost:8080/"
        },
        "id": "emSV9XqqxJeY",
        "outputId": "d7505a76-68d1-45fc-9946-f1d6224894fc"
      },
      "execution_count": null,
      "outputs": [
        {
          "output_type": "stream",
          "name": "stdout",
          "text": [
            "<class 'numpy.int64'> <class 'numpy.int64'> <class 'int'> <class 'numpy.int64'> <class 'int'>\n"
          ]
        }
      ]
    },
    {
      "cell_type": "code",
      "source": [
        "Y = np.asmatrix(Y)\n",
        "print(Y)\n",
        "Y = np.transpose(Y)\n",
        "print(Y)"
      ],
      "metadata": {
        "colab": {
          "base_uri": "https://localhost:8080/"
        },
        "id": "xPiK_H_qxWn4",
        "outputId": "4820296a-2faf-4a01-fe7b-4404e0a0fce1"
      },
      "execution_count": null,
      "outputs": [
        {
          "output_type": "stream",
          "name": "stdout",
          "text": [
            "[[10000 20000 17000 ... 35000 45000 15000]]\n",
            "[[10000]\n",
            " [20000]\n",
            " [17000]\n",
            " ...\n",
            " [35000]\n",
            " [45000]\n",
            " [15000]]\n"
          ]
        }
      ]
    },
    {
      "cell_type": "code",
      "source": [
        "print(len(X1),len(X2),len(X3),len(X4),len(X5))"
      ],
      "metadata": {
        "colab": {
          "base_uri": "https://localhost:8080/"
        },
        "id": "PHaxuautzZhp",
        "outputId": "d7937e53-9646-440f-9575-aca8388c85bb"
      },
      "execution_count": null,
      "outputs": [
        {
          "output_type": "stream",
          "name": "stdout",
          "text": [
            "4746 4746 4746 4746 4746\n"
          ]
        }
      ]
    },
    {
      "cell_type": "code",
      "source": [
        "X = []\n",
        "m = len(X1)\n",
        "for i in range(m):\n",
        "  temp_lst = []\n",
        "  temp_lst.append(1)\n",
        "  temp_lst.append(X1[i])\n",
        "  temp_lst.append(X2[i])\n",
        "  temp_lst.append(X3[i])\n",
        "  temp_lst.append(X4[i])\n",
        "  temp_lst.append(X5[i])\n",
        "  X.append(temp_lst)\n",
        "\n",
        "X = np.asmatrix(X)\n",
        "print(X)\n"
      ],
      "metadata": {
        "colab": {
          "base_uri": "https://localhost:8080/"
        },
        "id": "3uxAZgWyzh7W",
        "outputId": "dfc62237-1a54-4192-ac6c-e79a496c5ffc"
      },
      "execution_count": null,
      "outputs": [
        {
          "output_type": "stream",
          "name": "stdout",
          "text": [
            "[[   1 1100    2    5    2    3]\n",
            " [   1  800    2    5    1    2]\n",
            " [   1 1000    2    5    1    2]\n",
            " ...\n",
            " [   1 1750    3    4    3    2]\n",
            " [   1 1500    3    4    2    2]\n",
            " [   1 1000    2    4    2    3]]\n"
          ]
        }
      ]
    },
    {
      "cell_type": "markdown",
      "source": [
        "**Normal Equation Calculation**"
      ],
      "metadata": {
        "id": "ab8jJHopxNGo"
      }
    },
    {
      "cell_type": "code",
      "source": [
        "x_trans_x = np.matmul(X.T,X)\n",
        "print(x_trans_x)"
      ],
      "metadata": {
        "colab": {
          "base_uri": "https://localhost:8080/"
        },
        "id": "bqHvT2x0xS9o",
        "outputId": "35077ad8-2977-4139-acde-5d8375362abe"
      },
      "execution_count": null,
      "outputs": [
        {
          "output_type": "stream",
          "name": "stdout",
          "text": [
            "[[      4746    4591711       9890      16407       9330      10627]\n",
            " [   4591711 6350936573   11362068   15605622   10998301    9925588]\n",
            " [      9890   11362068      23896      34521      22219      21766]\n",
            " [     16407   15605622      34521      71875      33066      36753]\n",
            " [      9330   10998301      22219      33066      22054      20370]\n",
            " [     10627    9925588      21766      36753      20370      26019]]\n"
          ]
        }
      ]
    },
    {
      "cell_type": "code",
      "source": [
        "x_trans_y = np.matmul(X.T,Y)\n",
        "print(x_trans_y)"
      ],
      "metadata": {
        "colab": {
          "base_uri": "https://localhost:8080/"
        },
        "id": "wHuMZQCS4h5V",
        "outputId": "c6836ef3-3324-4dd4-afc4-d8aaa8318266"
      },
      "execution_count": null,
      "outputs": [
        {
          "output_type": "stream",
          "name": "stdout",
          "text": [
            "[[   166078920]\n",
            " [257882791665]\n",
            " [   460123311]\n",
            " [   713580761]\n",
            " [   471128360]\n",
            " [   334770701]]\n"
          ]
        }
      ]
    },
    {
      "cell_type": "code",
      "source": [
        "from numpy.linalg import inv\n",
        "inv_x_trans_x = inv(x_trans_x)\n",
        "print(inv_x_trans_x)"
      ],
      "metadata": {
        "colab": {
          "base_uri": "https://localhost:8080/"
        },
        "id": "UtHqepBP45o0",
        "outputId": "cee4e3a0-fc60-4f0d-8b27-7abcaee443bd"
      },
      "execution_count": null,
      "outputs": [
        {
          "output_type": "stream",
          "name": "stdout",
          "text": [
            "[[ 5.10166440e-03  2.28122623e-08 -5.48853222e-04 -2.01190854e-04\n",
            "  -2.49174344e-04 -1.15398073e-03]\n",
            " [ 2.28122623e-08  1.33637616e-09 -3.40021261e-07  5.57081397e-08\n",
            "  -4.60931725e-07  4.74997363e-08]\n",
            " [-5.48853222e-04 -3.40021261e-07  9.16512440e-04  1.17595825e-06\n",
            "  -5.07550907e-04 -1.71276239e-05]\n",
            " [-2.01190854e-04  5.57081397e-08  1.17595825e-06  6.94048932e-05\n",
            "  -4.59450135e-05 -2.12978422e-06]\n",
            " [-2.49174344e-04 -4.60931725e-07 -5.07550907e-04 -4.59450135e-05\n",
            "   9.11332708e-04  5.36191635e-05]\n",
            " [-1.15398073e-03  4.74997363e-08 -1.71276239e-05 -2.12978422e-06\n",
            "   5.36191635e-05  4.66995037e-04]]\n"
          ]
        }
      ]
    },
    {
      "cell_type": "code",
      "source": [
        "theta = np.matmul(inv_x_trans_x,x_trans_y)\n",
        "print(theta)"
      ],
      "metadata": {
        "colab": {
          "base_uri": "https://localhost:8080/"
        },
        "id": "pNEMGD__5l5M",
        "outputId": "00dad586-3ed1-4074-cc8f-53f95c09771c"
      },
      "execution_count": null,
      "outputs": [
        {
          "output_type": "stream",
          "name": "stdout",
          "text": [
            "[[-4.66563190e+04]\n",
            " [ 3.04611119e+01]\n",
            " [-1.14615583e+03]\n",
            " [ 8.66070487e+03]\n",
            " [ 2.07343616e+04]\n",
            " [-7.20533636e+03]]\n"
          ]
        }
      ]
    },
    {
      "cell_type": "code",
      "source": [
        "theta = np.squeeze(np.asarray(theta))\n",
        "theta_0 = theta[0]\n",
        "theta_1 = theta[1]\n",
        "theta_2 = theta[2]\n",
        "theta_3 = theta[3]\n",
        "theta_4 = theta[4]\n",
        "theta_5 = theta[5]"
      ],
      "metadata": {
        "id": "grD-BJsS6kca"
      },
      "execution_count": null,
      "outputs": []
    },
    {
      "cell_type": "markdown",
      "source": [
        "**Cost Function**"
      ],
      "metadata": {
        "id": "tgR0dEfB9VPL"
      }
    },
    {
      "cell_type": "code",
      "source": [
        "sum = 0\n",
        "for i in range(m):\n",
        "  temp_sum = theta_0 + theta_1*X1[i] + theta_2*X2[i] + theta_3*X3[i] + theta_4*X4[i] + theta_5*X5[i]\n",
        "  temp_sum = temp_sum ** 2\n",
        "  sum += temp_sum\n",
        "\n",
        "cost = sum/(2*m)\n",
        "print(cost)"
      ],
      "metadata": {
        "colab": {
          "base_uri": "https://localhost:8080/"
        },
        "id": "e1ns0gL49UYN",
        "outputId": "9c6e5238-1820-47e9-b676-6be1e8a20bb2"
      },
      "execution_count": null,
      "outputs": [
        {
          "output_type": "stream",
          "name": "stdout",
          "text": [
            "1381786252.4135602\n"
          ]
        }
      ]
    },
    {
      "cell_type": "code",
      "source": [],
      "metadata": {
        "id": "ZgZWVxPiXoun"
      },
      "execution_count": null,
      "outputs": []
    }
  ]
}