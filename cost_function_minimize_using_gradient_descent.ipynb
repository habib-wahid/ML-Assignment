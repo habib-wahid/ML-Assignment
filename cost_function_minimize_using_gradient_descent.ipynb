{
  "nbformat": 4,
  "nbformat_minor": 0,
  "metadata": {
    "colab": {
      "provenance": [],
      "include_colab_link": true
    },
    "kernelspec": {
      "name": "python3",
      "display_name": "Python 3"
    },
    "language_info": {
      "name": "python"
    }
  },
  "cells": [
    {
      "cell_type": "markdown",
      "metadata": {
        "id": "view-in-github",
        "colab_type": "text"
      },
      "source": [
        "<a href=\"https://colab.research.google.com/github/habib-wahid/ML-Assignment/blob/main/cost_function_minimize_using_gradient_descent.ipynb\" target=\"_parent\"><img src=\"https://colab.research.google.com/assets/colab-badge.svg\" alt=\"Open In Colab\"/></a>"
      ]
    },
    {
      "cell_type": "code",
      "execution_count": 1,
      "metadata": {
        "colab": {
          "base_uri": "https://localhost:8080/"
        },
        "id": "daYErphrKM7a",
        "outputId": "06ef06b5-16d0-4585-d83f-bce77490653f"
      },
      "outputs": [
        {
          "output_type": "stream",
          "name": "stdout",
          "text": [
            "Mounted at /content/drive\n"
          ]
        }
      ],
      "source": [
        "import pandas as pd\n",
        "import matplotlib.pyplot as plt\n",
        "import numpy as np\n",
        "import seaborn as sns\n",
        "from google.colab import drive\n",
        "drive.mount('/content/drive')"
      ]
    },
    {
      "cell_type": "code",
      "source": [
        "# !ls \"/content/drive/MyDrive\"\n",
        "data = pd.read_csv(\"/content/drive/MyDrive/Data/4K_House_Rent_Dataset.csv\")\n",
        "data.head()"
      ],
      "metadata": {
        "colab": {
          "base_uri": "https://localhost:8080/",
          "height": 206
        },
        "id": "4ccldxGLKxHP",
        "outputId": "8dfada3d-d1bd-4352-fc6a-9574efaee57b"
      },
      "execution_count": 2,
      "outputs": [
        {
          "output_type": "execute_result",
          "data": {
            "text/plain": [
              "    Posted On  BHK   Rent  Size            Floor    Area Type  \\\n",
              "0  2022-05-18    2  10000  1100  Ground out of 2   Super Area   \n",
              "1  2022-05-13    2  20000   800       1 out of 3   Super Area   \n",
              "2  2022-05-16    2  17000  1000       1 out of 3   Super Area   \n",
              "3  2022-07-04    2  10000   800       1 out of 2   Super Area   \n",
              "4  2022-05-09    2   7500   850       1 out of 2  Carpet Area   \n",
              "\n",
              "              Area Locality     City Furnishing Status  Tenant Preferred  \\\n",
              "0                    Bandel  Kolkata       Unfurnished  Bachelors/Family   \n",
              "1  Phool Bagan, Kankurgachi  Kolkata    Semi-Furnished  Bachelors/Family   \n",
              "2   Salt Lake City Sector 2  Kolkata    Semi-Furnished  Bachelors/Family   \n",
              "3               Dumdum Park  Kolkata       Unfurnished  Bachelors/Family   \n",
              "4             South Dum Dum  Kolkata       Unfurnished         Bachelors   \n",
              "\n",
              "   Bathroom Point of Contact  \n",
              "0         2    Contact Owner  \n",
              "1         1    Contact Owner  \n",
              "2         1    Contact Owner  \n",
              "3         1    Contact Owner  \n",
              "4         1    Contact Owner  "
            ],
            "text/html": [
              "\n",
              "  <div id=\"df-7e896c4f-4de5-4adb-bd7e-e2339e84fa8b\">\n",
              "    <div class=\"colab-df-container\">\n",
              "      <div>\n",
              "<style scoped>\n",
              "    .dataframe tbody tr th:only-of-type {\n",
              "        vertical-align: middle;\n",
              "    }\n",
              "\n",
              "    .dataframe tbody tr th {\n",
              "        vertical-align: top;\n",
              "    }\n",
              "\n",
              "    .dataframe thead th {\n",
              "        text-align: right;\n",
              "    }\n",
              "</style>\n",
              "<table border=\"1\" class=\"dataframe\">\n",
              "  <thead>\n",
              "    <tr style=\"text-align: right;\">\n",
              "      <th></th>\n",
              "      <th>Posted On</th>\n",
              "      <th>BHK</th>\n",
              "      <th>Rent</th>\n",
              "      <th>Size</th>\n",
              "      <th>Floor</th>\n",
              "      <th>Area Type</th>\n",
              "      <th>Area Locality</th>\n",
              "      <th>City</th>\n",
              "      <th>Furnishing Status</th>\n",
              "      <th>Tenant Preferred</th>\n",
              "      <th>Bathroom</th>\n",
              "      <th>Point of Contact</th>\n",
              "    </tr>\n",
              "  </thead>\n",
              "  <tbody>\n",
              "    <tr>\n",
              "      <th>0</th>\n",
              "      <td>2022-05-18</td>\n",
              "      <td>2</td>\n",
              "      <td>10000</td>\n",
              "      <td>1100</td>\n",
              "      <td>Ground out of 2</td>\n",
              "      <td>Super Area</td>\n",
              "      <td>Bandel</td>\n",
              "      <td>Kolkata</td>\n",
              "      <td>Unfurnished</td>\n",
              "      <td>Bachelors/Family</td>\n",
              "      <td>2</td>\n",
              "      <td>Contact Owner</td>\n",
              "    </tr>\n",
              "    <tr>\n",
              "      <th>1</th>\n",
              "      <td>2022-05-13</td>\n",
              "      <td>2</td>\n",
              "      <td>20000</td>\n",
              "      <td>800</td>\n",
              "      <td>1 out of 3</td>\n",
              "      <td>Super Area</td>\n",
              "      <td>Phool Bagan, Kankurgachi</td>\n",
              "      <td>Kolkata</td>\n",
              "      <td>Semi-Furnished</td>\n",
              "      <td>Bachelors/Family</td>\n",
              "      <td>1</td>\n",
              "      <td>Contact Owner</td>\n",
              "    </tr>\n",
              "    <tr>\n",
              "      <th>2</th>\n",
              "      <td>2022-05-16</td>\n",
              "      <td>2</td>\n",
              "      <td>17000</td>\n",
              "      <td>1000</td>\n",
              "      <td>1 out of 3</td>\n",
              "      <td>Super Area</td>\n",
              "      <td>Salt Lake City Sector 2</td>\n",
              "      <td>Kolkata</td>\n",
              "      <td>Semi-Furnished</td>\n",
              "      <td>Bachelors/Family</td>\n",
              "      <td>1</td>\n",
              "      <td>Contact Owner</td>\n",
              "    </tr>\n",
              "    <tr>\n",
              "      <th>3</th>\n",
              "      <td>2022-07-04</td>\n",
              "      <td>2</td>\n",
              "      <td>10000</td>\n",
              "      <td>800</td>\n",
              "      <td>1 out of 2</td>\n",
              "      <td>Super Area</td>\n",
              "      <td>Dumdum Park</td>\n",
              "      <td>Kolkata</td>\n",
              "      <td>Unfurnished</td>\n",
              "      <td>Bachelors/Family</td>\n",
              "      <td>1</td>\n",
              "      <td>Contact Owner</td>\n",
              "    </tr>\n",
              "    <tr>\n",
              "      <th>4</th>\n",
              "      <td>2022-05-09</td>\n",
              "      <td>2</td>\n",
              "      <td>7500</td>\n",
              "      <td>850</td>\n",
              "      <td>1 out of 2</td>\n",
              "      <td>Carpet Area</td>\n",
              "      <td>South Dum Dum</td>\n",
              "      <td>Kolkata</td>\n",
              "      <td>Unfurnished</td>\n",
              "      <td>Bachelors</td>\n",
              "      <td>1</td>\n",
              "      <td>Contact Owner</td>\n",
              "    </tr>\n",
              "  </tbody>\n",
              "</table>\n",
              "</div>\n",
              "      <button class=\"colab-df-convert\" onclick=\"convertToInteractive('df-7e896c4f-4de5-4adb-bd7e-e2339e84fa8b')\"\n",
              "              title=\"Convert this dataframe to an interactive table.\"\n",
              "              style=\"display:none;\">\n",
              "        \n",
              "  <svg xmlns=\"http://www.w3.org/2000/svg\" height=\"24px\"viewBox=\"0 0 24 24\"\n",
              "       width=\"24px\">\n",
              "    <path d=\"M0 0h24v24H0V0z\" fill=\"none\"/>\n",
              "    <path d=\"M18.56 5.44l.94 2.06.94-2.06 2.06-.94-2.06-.94-.94-2.06-.94 2.06-2.06.94zm-11 1L8.5 8.5l.94-2.06 2.06-.94-2.06-.94L8.5 2.5l-.94 2.06-2.06.94zm10 10l.94 2.06.94-2.06 2.06-.94-2.06-.94-.94-2.06-.94 2.06-2.06.94z\"/><path d=\"M17.41 7.96l-1.37-1.37c-.4-.4-.92-.59-1.43-.59-.52 0-1.04.2-1.43.59L10.3 9.45l-7.72 7.72c-.78.78-.78 2.05 0 2.83L4 21.41c.39.39.9.59 1.41.59.51 0 1.02-.2 1.41-.59l7.78-7.78 2.81-2.81c.8-.78.8-2.07 0-2.86zM5.41 20L4 18.59l7.72-7.72 1.47 1.35L5.41 20z\"/>\n",
              "  </svg>\n",
              "      </button>\n",
              "      \n",
              "  <style>\n",
              "    .colab-df-container {\n",
              "      display:flex;\n",
              "      flex-wrap:wrap;\n",
              "      gap: 12px;\n",
              "    }\n",
              "\n",
              "    .colab-df-convert {\n",
              "      background-color: #E8F0FE;\n",
              "      border: none;\n",
              "      border-radius: 50%;\n",
              "      cursor: pointer;\n",
              "      display: none;\n",
              "      fill: #1967D2;\n",
              "      height: 32px;\n",
              "      padding: 0 0 0 0;\n",
              "      width: 32px;\n",
              "    }\n",
              "\n",
              "    .colab-df-convert:hover {\n",
              "      background-color: #E2EBFA;\n",
              "      box-shadow: 0px 1px 2px rgba(60, 64, 67, 0.3), 0px 1px 3px 1px rgba(60, 64, 67, 0.15);\n",
              "      fill: #174EA6;\n",
              "    }\n",
              "\n",
              "    [theme=dark] .colab-df-convert {\n",
              "      background-color: #3B4455;\n",
              "      fill: #D2E3FC;\n",
              "    }\n",
              "\n",
              "    [theme=dark] .colab-df-convert:hover {\n",
              "      background-color: #434B5C;\n",
              "      box-shadow: 0px 1px 3px 1px rgba(0, 0, 0, 0.15);\n",
              "      filter: drop-shadow(0px 1px 2px rgba(0, 0, 0, 0.3));\n",
              "      fill: #FFFFFF;\n",
              "    }\n",
              "  </style>\n",
              "\n",
              "      <script>\n",
              "        const buttonEl =\n",
              "          document.querySelector('#df-7e896c4f-4de5-4adb-bd7e-e2339e84fa8b button.colab-df-convert');\n",
              "        buttonEl.style.display =\n",
              "          google.colab.kernel.accessAllowed ? 'block' : 'none';\n",
              "\n",
              "        async function convertToInteractive(key) {\n",
              "          const element = document.querySelector('#df-7e896c4f-4de5-4adb-bd7e-e2339e84fa8b');\n",
              "          const dataTable =\n",
              "            await google.colab.kernel.invokeFunction('convertToInteractive',\n",
              "                                                     [key], {});\n",
              "          if (!dataTable) return;\n",
              "\n",
              "          const docLinkHtml = 'Like what you see? Visit the ' +\n",
              "            '<a target=\"_blank\" href=https://colab.research.google.com/notebooks/data_table.ipynb>data table notebook</a>'\n",
              "            + ' to learn more about interactive tables.';\n",
              "          element.innerHTML = '';\n",
              "          dataTable['output_type'] = 'display_data';\n",
              "          await google.colab.output.renderOutput(dataTable, element);\n",
              "          const docLink = document.createElement('div');\n",
              "          docLink.innerHTML = docLinkHtml;\n",
              "          element.appendChild(docLink);\n",
              "        }\n",
              "      </script>\n",
              "    </div>\n",
              "  </div>\n",
              "  "
            ]
          },
          "metadata": {},
          "execution_count": 2
        }
      ]
    },
    {
      "cell_type": "code",
      "source": [
        "Y = data['Rent'].values\n",
        "X1 = data['Size'].values\n",
        "X2 = data['BHK'].values\n",
        "X3 = data['City'].values\n",
        "X4 = data['Bathroom'].values\n",
        "X5 = data['Furnishing Status'].values"
      ],
      "metadata": {
        "id": "CcE4LDPwLbiB"
      },
      "execution_count": 3,
      "outputs": []
    },
    {
      "cell_type": "code",
      "source": [
        "def replace_feature_by_value(input_list,replacing_item,replaced_value):\n",
        "  return [replaced_value if item == replacing_item else item for item in input_list]\n",
        "\n",
        "X3 = replace_feature_by_value(X3,'Bangalore',1)\n",
        "X3 = replace_feature_by_value(X3,'Chennai',2)\n",
        "X3 = replace_feature_by_value(X3,'Delhi',3)\n",
        "X3 = replace_feature_by_value(X3,'Hyderabad',4)\n",
        "X3 = replace_feature_by_value(X3,'Kolkata',5)\n",
        "X3 = replace_feature_by_value(X3,'Mumbai',6)\n",
        "\n",
        "X5 = replace_feature_by_value(X5,'Furnished',1)\n",
        "X5 = replace_feature_by_value(X5,'Semi-Furnished',2)\n",
        "X5 = replace_feature_by_value(X5,'Unfurnished',3)\n",
        "\n",
        "print(type(X1[0]),type(X2[0]),type(X3[0]),type(X4[0]),type(X5[0]))\n"
      ],
      "metadata": {
        "colab": {
          "base_uri": "https://localhost:8080/"
        },
        "id": "Z29HNxzFNVdc",
        "outputId": "393ec09c-7506-450b-f94a-30d65ee2ff17"
      },
      "execution_count": 4,
      "outputs": [
        {
          "output_type": "stream",
          "name": "stdout",
          "text": [
            "<class 'numpy.int64'> <class 'numpy.int64'> <class 'int'> <class 'numpy.int64'> <class 'int'>\n"
          ]
        }
      ]
    },
    {
      "cell_type": "code",
      "source": [
        "def min_max_scalar(input_list):\n",
        "  min = np.min(input_list)\n",
        "  max = np.max(input_list)\n",
        "  dif = max-min\n",
        "  return [(item-min)/dif for item in input_list]\n",
        "\n",
        "X1 = min_max_scalar(X1)\n",
        "X2 = min_max_scalar(X2)\n",
        "X3 = min_max_scalar(X3)\n",
        "X4 = min_max_scalar(X4)\n",
        "X5 = min_max_scalar(X5)\n"
      ],
      "metadata": {
        "id": "y9dVq33USULQ"
      },
      "execution_count": 5,
      "outputs": []
    },
    {
      "cell_type": "markdown",
      "source": [
        "**Gradient Descent Algorithm**"
      ],
      "metadata": {
        "id": "exzbeBcIRbMO"
      }
    },
    {
      "cell_type": "code",
      "source": [
        "theta_0 = 0\n",
        "theta_1 = 0\n",
        "theta_2 = 0\n",
        "theta_3 = 0\n",
        "theta_4 = 0\n",
        "theta_5 = 0\n",
        "\n",
        "m = len(X1)\n",
        "epoch = 1000\n",
        "learning_rate = 0.00000001\n",
        "\n",
        "\n",
        "for i in range(epoch):\n",
        "  temp_0 = 0\n",
        "  temp_1 = 0\n",
        "  temp_2 = 0\n",
        "  temp_3 = 0\n",
        "  temp_4 = 0\n",
        "  temp_5 = 0\n",
        "  \n",
        "  for j in range(m):\n",
        "    temp_0 += (theta_0 + theta_1*X1[j] + theta_2*X2[j] + theta_3*X3[j] + theta_4*X4[j] + theta_5*X5[j] - Y[j])\n",
        "    temp_1 += (theta_0 + theta_1*X1[j] + theta_2*X2[j] + theta_3*X3[j] + theta_4*X4[j] + theta_5*X5[j] - Y[j]) * X1[j]\n",
        "    temp_2 += (theta_0 + theta_1*X1[j] + theta_2*X2[j] + theta_3*X3[j] + theta_4*X4[j] + theta_5*X5[j] - Y[j]) * X2[j]\n",
        "    temp_3 += (theta_0 + theta_1*X1[j] + theta_2*X2[j] + theta_3*X3[j] + theta_4*X4[j] + theta_5*X5[j] - Y[j]) * X3[j]\n",
        "    temp_4 += (theta_0 + theta_1*X1[j] + theta_2*X2[j] + theta_3*X3[j] + theta_4*X4[j] + theta_5*X5[j] - Y[j]) * X4[j]\n",
        "    temp_5 += (theta_0 + theta_1*X1[j] + theta_2*X2[j] + theta_3*X3[j] + theta_4*X4[j] + theta_5*X5[j] - Y[j]) * X5[j]\n",
        "    \n",
        "\n",
        "  theta_0 = theta_0 - learning_rate*temp_0/m\n",
        "  theta_1 = theta_1 - learning_rate*temp_1/m\n",
        "  theta_2 = theta_2 - learning_rate*temp_2/m\n",
        "  theta_3 = theta_3 - learning_rate*temp_3/m\n",
        "  theta_4 = theta_4 - learning_rate*temp_4/m\n",
        "  theta_5 = theta_5 - learning_rate*temp_5/m\n",
        "\n",
        "print(theta_0,theta_1,theta_2,theta_3,theta_4,theta_5)\n"
      ],
      "metadata": {
        "colab": {
          "base_uri": "https://localhost:8080/"
        },
        "id": "gsn1pdV6RlYr",
        "outputId": "8ef8c303-100c-4b4a-adc9-ade26fce3fc0"
      },
      "execution_count": 6,
      "outputs": [
        {
          "output_type": "stream",
          "name": "stdout",
          "text": [
            "0.34993143614894956 0.06756775827522761 0.12391182387654882 0.23071972042837777 0.07141639192102028 0.17771795254963255\n"
          ]
        }
      ]
    },
    {
      "cell_type": "markdown",
      "source": [
        "***Cost Calculation***"
      ],
      "metadata": {
        "id": "TwwRWCnyuS-x"
      }
    },
    {
      "cell_type": "code",
      "source": [
        "sum = 0\n",
        "for i in range(m):\n",
        "  temp = theta_0 + theta_1*X1[i] + theta_2*X2[i] + theta_3*X3[i] + theta_4*X4[i] + theta_5*X5[i]\n",
        "  temp = temp ** 2\n",
        "  sum += temp\n",
        "\n",
        "cost = sum/(2*m)\n",
        "print(cost)"
      ],
      "metadata": {
        "colab": {
          "base_uri": "https://localhost:8080/"
        },
        "id": "wFcvYzksnIUQ",
        "outputId": "77afa48f-70ef-4b99-ccd6-771813816cef"
      },
      "execution_count": 7,
      "outputs": [
        {
          "output_type": "stream",
          "name": "stdout",
          "text": [
            "0.19529931361300404\n"
          ]
        }
      ]
    }
  ]
}